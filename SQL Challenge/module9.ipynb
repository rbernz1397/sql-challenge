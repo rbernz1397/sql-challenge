{
    "metadata": {
        "kernelspec": {
            "name": "SQL",
            "display_name": "SQL",
            "language": "sql"
        },
        "language_info": {
            "name": "sql",
            "version": ""
        }
    },
    "nbformat_minor": 2,
    "nbformat": 4,
    "cells": [
        {
            "cell_type": "code",
            "source": [
                "--1. List the employee number, last name, first name, sex, and salary of each employee.\n",
                "SELECT e.emp_no, e.last_name, e.first_name, e.sex, s.salary\n",
                "FROM employees e\n",
                "JOIN salaries s ON e.emp_no = s.emp_no\n",
                "LIMIT 10;"
            ],
            "metadata": {
                "azdata_cell_guid": "1bc842eb-9431-45fc-9fd1-6751f1cb30a8",
                "language": "sql",
                "tags": []
            },
            "outputs": [
                {
                    "output_type": "display_data",
                    "data": {
                        "text/html": "(10 row(s) affected)"
                    },
                    "metadata": {}
                },
                {
                    "output_type": "display_data",
                    "data": {
                        "text/html": "Total execution time: 00:00:00.002"
                    },
                    "metadata": {}
                },
                {
                    "output_type": "execute_result",
                    "metadata": {},
                    "execution_count": 2,
                    "data": {
                        "application/vnd.dataresource+json": {
                            "schema": {
                                "fields": [
                                    {
                                        "name": "emp_no"
                                    },
                                    {
                                        "name": "last_name"
                                    },
                                    {
                                        "name": "first_name"
                                    },
                                    {
                                        "name": "sex"
                                    },
                                    {
                                        "name": "salary"
                                    }
                                ]
                            },
                            "data": [
                                {
                                    "emp_no": "10001",
                                    "last_name": "Facello",
                                    "first_name": "Georgi",
                                    "sex": "M",
                                    "salary": "60117"
                                },
                                {
                                    "emp_no": "10002",
                                    "last_name": "Simmel",
                                    "first_name": "Bezalel",
                                    "sex": "F",
                                    "salary": "65828"
                                },
                                {
                                    "emp_no": "10003",
                                    "last_name": "Bamford",
                                    "first_name": "Parto",
                                    "sex": "M",
                                    "salary": "40006"
                                },
                                {
                                    "emp_no": "10004",
                                    "last_name": "Koblick",
                                    "first_name": "Chirstian",
                                    "sex": "M",
                                    "salary": "40054"
                                },
                                {
                                    "emp_no": "10005",
                                    "last_name": "Maliniak",
                                    "first_name": "Kyoichi",
                                    "sex": "M",
                                    "salary": "78228"
                                },
                                {
                                    "emp_no": "10006",
                                    "last_name": "Preusig",
                                    "first_name": "Anneke",
                                    "sex": "F",
                                    "salary": "40000"
                                },
                                {
                                    "emp_no": "10007",
                                    "last_name": "Zielinski",
                                    "first_name": "Tzvetan",
                                    "sex": "F",
                                    "salary": "56724"
                                },
                                {
                                    "emp_no": "10008",
                                    "last_name": "Kalloufi",
                                    "first_name": "Saniya",
                                    "sex": "M",
                                    "salary": "46671"
                                },
                                {
                                    "emp_no": "10009",
                                    "last_name": "Peac",
                                    "first_name": "Sumant",
                                    "sex": "F",
                                    "salary": "60929"
                                },
                                {
                                    "emp_no": "10010",
                                    "last_name": "Piveteau",
                                    "first_name": "Duangkaew",
                                    "sex": "F",
                                    "salary": "72488"
                                }
                            ]
                        },
                        "text/html": [
                            "<table>",
                            "<tr><th>emp_no</th><th>last_name</th><th>first_name</th><th>sex</th><th>salary</th></tr>",
                            "<tr><td>10001</td><td>Facello</td><td>Georgi</td><td>M</td><td>60117</td></tr>",
                            "<tr><td>10002</td><td>Simmel</td><td>Bezalel</td><td>F</td><td>65828</td></tr>",
                            "<tr><td>10003</td><td>Bamford</td><td>Parto</td><td>M</td><td>40006</td></tr>",
                            "<tr><td>10004</td><td>Koblick</td><td>Chirstian</td><td>M</td><td>40054</td></tr>",
                            "<tr><td>10005</td><td>Maliniak</td><td>Kyoichi</td><td>M</td><td>78228</td></tr>",
                            "<tr><td>10006</td><td>Preusig</td><td>Anneke</td><td>F</td><td>40000</td></tr>",
                            "<tr><td>10007</td><td>Zielinski</td><td>Tzvetan</td><td>F</td><td>56724</td></tr>",
                            "<tr><td>10008</td><td>Kalloufi</td><td>Saniya</td><td>M</td><td>46671</td></tr>",
                            "<tr><td>10009</td><td>Peac</td><td>Sumant</td><td>F</td><td>60929</td></tr>",
                            "<tr><td>10010</td><td>Piveteau</td><td>Duangkaew</td><td>F</td><td>72488</td></tr>",
                            "</table>"
                        ]
                    }
                }
            ],
            "execution_count": 2
        },
        {
            "cell_type": "code",
            "source": [
                "--2. List the first name, last name, and hire date for the employees who were hired in 1986.\n",
                "SELECT first_name, last_name, hire_date\n",
                "FROM employees\n",
                "WHERE hire_date >= '1986/01/01' AND hire_date <= '1986/12/31'\n",
                "LIMIT 10;"
            ],
            "metadata": {
                "azdata_cell_guid": "d6d7ffbf-8c18-41f1-a06c-d030865e021a",
                "language": "sql"
            },
            "outputs": [
                {
                    "output_type": "display_data",
                    "data": {
                        "text/html": "(10 row(s) affected)"
                    },
                    "metadata": {}
                },
                {
                    "output_type": "display_data",
                    "data": {
                        "text/html": "Total execution time: 00:00:00.002"
                    },
                    "metadata": {}
                },
                {
                    "output_type": "execute_result",
                    "metadata": {},
                    "execution_count": 3,
                    "data": {
                        "application/vnd.dataresource+json": {
                            "schema": {
                                "fields": [
                                    {
                                        "name": "first_name"
                                    },
                                    {
                                        "name": "last_name"
                                    },
                                    {
                                        "name": "hire_date"
                                    }
                                ]
                            },
                            "data": [
                                {
                                    "first_name": "Eran",
                                    "last_name": "Cusworth",
                                    "hire_date": "1986-11-14"
                                },
                                {
                                    "first_name": "Bojan",
                                    "last_name": "Zallocco",
                                    "hire_date": "1986-10-14"
                                },
                                {
                                    "first_name": "Nevio",
                                    "last_name": "Demizu",
                                    "hire_date": "1986-05-18"
                                },
                                {
                                    "first_name": "Ziva",
                                    "last_name": "Vecchi",
                                    "hire_date": "1986-07-03"
                                },
                                {
                                    "first_name": "Mohit",
                                    "last_name": "Speek",
                                    "hire_date": "1986-01-14"
                                },
                                {
                                    "first_name": "Qunsheng",
                                    "last_name": "Speer",
                                    "hire_date": "1986-02-13"
                                },
                                {
                                    "first_name": "Dines",
                                    "last_name": "Encarnacion",
                                    "hire_date": "1986-08-02"
                                },
                                {
                                    "first_name": "Harngdar",
                                    "last_name": "Swick",
                                    "hire_date": "1986-05-28"
                                },
                                {
                                    "first_name": "Freyja",
                                    "last_name": "Uhrig",
                                    "hire_date": "1986-12-20"
                                },
                                {
                                    "first_name": "Zhenhua",
                                    "last_name": "Milicic",
                                    "hire_date": "1986-08-04"
                                }
                            ]
                        },
                        "text/html": [
                            "<table>",
                            "<tr><th>first_name</th><th>last_name</th><th>hire_date</th></tr>",
                            "<tr><td>Eran</td><td>Cusworth</td><td>1986-11-14</td></tr>",
                            "<tr><td>Bojan</td><td>Zallocco</td><td>1986-10-14</td></tr>",
                            "<tr><td>Nevio</td><td>Demizu</td><td>1986-05-18</td></tr>",
                            "<tr><td>Ziva</td><td>Vecchi</td><td>1986-07-03</td></tr>",
                            "<tr><td>Mohit</td><td>Speek</td><td>1986-01-14</td></tr>",
                            "<tr><td>Qunsheng</td><td>Speer</td><td>1986-02-13</td></tr>",
                            "<tr><td>Dines</td><td>Encarnacion</td><td>1986-08-02</td></tr>",
                            "<tr><td>Harngdar</td><td>Swick</td><td>1986-05-28</td></tr>",
                            "<tr><td>Freyja</td><td>Uhrig</td><td>1986-12-20</td></tr>",
                            "<tr><td>Zhenhua</td><td>Milicic</td><td>1986-08-04</td></tr>",
                            "</table>"
                        ]
                    }
                }
            ],
            "execution_count": 3
        },
        {
            "cell_type": "code",
            "source": [
                "--3. List the manager of each department along with their department number, department name, employee number, last name, and first name\n",
                "SELECT \n",
                "    dm.dept_no,\n",
                "    d.dept_name,\n",
                "    dm.emp_no AS manager_emp_no,\n",
                "    e.last_name AS manager_last_name,\n",
                "    e.first_name AS manager_first_name\n",
                "FROM \n",
                "    dept_manager dm\n",
                "JOIN \n",
                "    employees e ON dm.emp_no = e.emp_no\n",
                "JOIN \n",
                "    departments d ON dm.dept_no = d.dept_no\n",
                "LIMIT 10;"
            ],
            "metadata": {
                "azdata_cell_guid": "4570dacd-0a32-4f2f-b6f6-af8bebac9923",
                "language": "sql"
            },
            "outputs": [
                {
                    "output_type": "display_data",
                    "data": {
                        "text/html": "(10 row(s) affected)"
                    },
                    "metadata": {}
                },
                {
                    "output_type": "display_data",
                    "data": {
                        "text/html": "Total execution time: 00:00:00.003"
                    },
                    "metadata": {}
                },
                {
                    "output_type": "execute_result",
                    "metadata": {},
                    "execution_count": 4,
                    "data": {
                        "application/vnd.dataresource+json": {
                            "schema": {
                                "fields": [
                                    {
                                        "name": "dept_no"
                                    },
                                    {
                                        "name": "dept_name"
                                    },
                                    {
                                        "name": "manager_emp_no"
                                    },
                                    {
                                        "name": "manager_last_name"
                                    },
                                    {
                                        "name": "manager_first_name"
                                    }
                                ]
                            },
                            "data": [
                                {
                                    "dept_no": "d001",
                                    "dept_name": "Marketing",
                                    "manager_emp_no": "110022",
                                    "manager_last_name": "Markovitch",
                                    "manager_first_name": "Margareta"
                                },
                                {
                                    "dept_no": "d001",
                                    "dept_name": "Marketing",
                                    "manager_emp_no": "110039",
                                    "manager_last_name": "Minakawa",
                                    "manager_first_name": "Vishwani"
                                },
                                {
                                    "dept_no": "d002",
                                    "dept_name": "Finance",
                                    "manager_emp_no": "110085",
                                    "manager_last_name": "Alpin",
                                    "manager_first_name": "Ebru"
                                },
                                {
                                    "dept_no": "d002",
                                    "dept_name": "Finance",
                                    "manager_emp_no": "110114",
                                    "manager_last_name": "Legleitner",
                                    "manager_first_name": "Isamu"
                                },
                                {
                                    "dept_no": "d003",
                                    "dept_name": "Human Resources",
                                    "manager_emp_no": "110183",
                                    "manager_last_name": "Ossenbruggen",
                                    "manager_first_name": "Shirish"
                                },
                                {
                                    "dept_no": "d003",
                                    "dept_name": "Human Resources",
                                    "manager_emp_no": "110228",
                                    "manager_last_name": "Sigstam",
                                    "manager_first_name": "Karsten"
                                },
                                {
                                    "dept_no": "d004",
                                    "dept_name": "Production",
                                    "manager_emp_no": "110303",
                                    "manager_last_name": "Wegerle",
                                    "manager_first_name": "Krassimir"
                                },
                                {
                                    "dept_no": "d004",
                                    "dept_name": "Production",
                                    "manager_emp_no": "110344",
                                    "manager_last_name": "Cools",
                                    "manager_first_name": "Rosine"
                                },
                                {
                                    "dept_no": "d004",
                                    "dept_name": "Production",
                                    "manager_emp_no": "110386",
                                    "manager_last_name": "Kieras",
                                    "manager_first_name": "Shem"
                                },
                                {
                                    "dept_no": "d004",
                                    "dept_name": "Production",
                                    "manager_emp_no": "110420",
                                    "manager_last_name": "Ghazalie",
                                    "manager_first_name": "Oscar"
                                }
                            ]
                        },
                        "text/html": [
                            "<table>",
                            "<tr><th>dept_no</th><th>dept_name</th><th>manager_emp_no</th><th>manager_last_name</th><th>manager_first_name</th></tr>",
                            "<tr><td>d001</td><td>Marketing</td><td>110022</td><td>Markovitch</td><td>Margareta</td></tr>",
                            "<tr><td>d001</td><td>Marketing</td><td>110039</td><td>Minakawa</td><td>Vishwani</td></tr>",
                            "<tr><td>d002</td><td>Finance</td><td>110085</td><td>Alpin</td><td>Ebru</td></tr>",
                            "<tr><td>d002</td><td>Finance</td><td>110114</td><td>Legleitner</td><td>Isamu</td></tr>",
                            "<tr><td>d003</td><td>Human Resources</td><td>110183</td><td>Ossenbruggen</td><td>Shirish</td></tr>",
                            "<tr><td>d003</td><td>Human Resources</td><td>110228</td><td>Sigstam</td><td>Karsten</td></tr>",
                            "<tr><td>d004</td><td>Production</td><td>110303</td><td>Wegerle</td><td>Krassimir</td></tr>",
                            "<tr><td>d004</td><td>Production</td><td>110344</td><td>Cools</td><td>Rosine</td></tr>",
                            "<tr><td>d004</td><td>Production</td><td>110386</td><td>Kieras</td><td>Shem</td></tr>",
                            "<tr><td>d004</td><td>Production</td><td>110420</td><td>Ghazalie</td><td>Oscar</td></tr>",
                            "</table>"
                        ]
                    }
                }
            ],
            "execution_count": 4
        },
        {
            "cell_type": "code",
            "source": [
                "--4. List the department number for each employee along with that employee’s employee number, last name, first name, and department name.\n",
                "SELECT \n",
                "    de.emp_no,\n",
                "    e.last_name,\n",
                "    e.first_name,\n",
                "    de.dept_no,\n",
                "    d.dept_name\n",
                "FROM \n",
                "    dept_emp de\n",
                "JOIN \n",
                "    employees e ON de.emp_no = e.emp_no\n",
                "JOIN \n",
                "    departments d ON de.dept_no = d.dept_no\n",
                "LIMIT 10;\n",
                ""
            ],
            "metadata": {
                "language": "sql",
                "azdata_cell_guid": "3dbf3940-9b5c-4838-838b-2b75e37ecdd5"
            },
            "outputs": [
                {
                    "output_type": "display_data",
                    "data": {
                        "text/html": "(10 row(s) affected)"
                    },
                    "metadata": {}
                },
                {
                    "output_type": "display_data",
                    "data": {
                        "text/html": "Total execution time: 00:00:00.003"
                    },
                    "metadata": {}
                },
                {
                    "output_type": "execute_result",
                    "metadata": {},
                    "execution_count": 5,
                    "data": {
                        "application/vnd.dataresource+json": {
                            "schema": {
                                "fields": [
                                    {
                                        "name": "emp_no"
                                    },
                                    {
                                        "name": "last_name"
                                    },
                                    {
                                        "name": "first_name"
                                    },
                                    {
                                        "name": "dept_no"
                                    },
                                    {
                                        "name": "dept_name"
                                    }
                                ]
                            },
                            "data": [
                                {
                                    "emp_no": "10001",
                                    "last_name": "Facello",
                                    "first_name": "Georgi",
                                    "dept_no": "d005",
                                    "dept_name": "Development"
                                },
                                {
                                    "emp_no": "10002",
                                    "last_name": "Simmel",
                                    "first_name": "Bezalel",
                                    "dept_no": "d007",
                                    "dept_name": "Sales"
                                },
                                {
                                    "emp_no": "10003",
                                    "last_name": "Bamford",
                                    "first_name": "Parto",
                                    "dept_no": "d004",
                                    "dept_name": "Production"
                                },
                                {
                                    "emp_no": "10004",
                                    "last_name": "Koblick",
                                    "first_name": "Chirstian",
                                    "dept_no": "d004",
                                    "dept_name": "Production"
                                },
                                {
                                    "emp_no": "10005",
                                    "last_name": "Maliniak",
                                    "first_name": "Kyoichi",
                                    "dept_no": "d003",
                                    "dept_name": "Human Resources"
                                },
                                {
                                    "emp_no": "10006",
                                    "last_name": "Preusig",
                                    "first_name": "Anneke",
                                    "dept_no": "d005",
                                    "dept_name": "Development"
                                },
                                {
                                    "emp_no": "10007",
                                    "last_name": "Zielinski",
                                    "first_name": "Tzvetan",
                                    "dept_no": "d008",
                                    "dept_name": "Research"
                                },
                                {
                                    "emp_no": "10008",
                                    "last_name": "Kalloufi",
                                    "first_name": "Saniya",
                                    "dept_no": "d005",
                                    "dept_name": "Development"
                                },
                                {
                                    "emp_no": "10009",
                                    "last_name": "Peac",
                                    "first_name": "Sumant",
                                    "dept_no": "d006",
                                    "dept_name": "Quality Management"
                                },
                                {
                                    "emp_no": "10010",
                                    "last_name": "Piveteau",
                                    "first_name": "Duangkaew",
                                    "dept_no": "d004",
                                    "dept_name": "Production"
                                }
                            ]
                        },
                        "text/html": [
                            "<table>",
                            "<tr><th>emp_no</th><th>last_name</th><th>first_name</th><th>dept_no</th><th>dept_name</th></tr>",
                            "<tr><td>10001</td><td>Facello</td><td>Georgi</td><td>d005</td><td>Development</td></tr>",
                            "<tr><td>10002</td><td>Simmel</td><td>Bezalel</td><td>d007</td><td>Sales</td></tr>",
                            "<tr><td>10003</td><td>Bamford</td><td>Parto</td><td>d004</td><td>Production</td></tr>",
                            "<tr><td>10004</td><td>Koblick</td><td>Chirstian</td><td>d004</td><td>Production</td></tr>",
                            "<tr><td>10005</td><td>Maliniak</td><td>Kyoichi</td><td>d003</td><td>Human Resources</td></tr>",
                            "<tr><td>10006</td><td>Preusig</td><td>Anneke</td><td>d005</td><td>Development</td></tr>",
                            "<tr><td>10007</td><td>Zielinski</td><td>Tzvetan</td><td>d008</td><td>Research</td></tr>",
                            "<tr><td>10008</td><td>Kalloufi</td><td>Saniya</td><td>d005</td><td>Development</td></tr>",
                            "<tr><td>10009</td><td>Peac</td><td>Sumant</td><td>d006</td><td>Quality Management</td></tr>",
                            "<tr><td>10010</td><td>Piveteau</td><td>Duangkaew</td><td>d004</td><td>Production</td></tr>",
                            "</table>"
                        ]
                    }
                }
            ],
            "execution_count": 5
        },
        {
            "cell_type": "code",
            "source": [
                "--5. List first name, last name, and sex of each employee whose first name is Hercules and whose last name begins with the letter B.\n",
                "SELECT \n",
                "    first_name,\n",
                "    last_name,\n",
                "    sex\n",
                "FROM \n",
                "    employees\n",
                "WHERE \n",
                "    first_name = 'Hercules' \n",
                "    AND last_name LIKE 'B%'\n",
                "LIMIT 10;\n",
                ""
            ],
            "metadata": {
                "azdata_cell_guid": "60cd2dbe-ee0e-420f-8d44-40d13960b2c5",
                "language": "sql"
            },
            "outputs": [
                {
                    "output_type": "display_data",
                    "data": {
                        "text/html": "(10 row(s) affected)"
                    },
                    "metadata": {}
                },
                {
                    "output_type": "display_data",
                    "data": {
                        "text/html": "Total execution time: 00:00:00.020"
                    },
                    "metadata": {}
                },
                {
                    "output_type": "execute_result",
                    "metadata": {},
                    "execution_count": 6,
                    "data": {
                        "application/vnd.dataresource+json": {
                            "schema": {
                                "fields": [
                                    {
                                        "name": "first_name"
                                    },
                                    {
                                        "name": "last_name"
                                    },
                                    {
                                        "name": "sex"
                                    }
                                ]
                            },
                            "data": [
                                {
                                    "first_name": "Hercules",
                                    "last_name": "Baer",
                                    "sex": "M"
                                },
                                {
                                    "first_name": "Hercules",
                                    "last_name": "Biron",
                                    "sex": "F"
                                },
                                {
                                    "first_name": "Hercules",
                                    "last_name": "Birge",
                                    "sex": "F"
                                },
                                {
                                    "first_name": "Hercules",
                                    "last_name": "Berstel",
                                    "sex": "F"
                                },
                                {
                                    "first_name": "Hercules",
                                    "last_name": "Bernatsky",
                                    "sex": "M"
                                },
                                {
                                    "first_name": "Hercules",
                                    "last_name": "Bail",
                                    "sex": "F"
                                },
                                {
                                    "first_name": "Hercules",
                                    "last_name": "Bodoff",
                                    "sex": "M"
                                },
                                {
                                    "first_name": "Hercules",
                                    "last_name": "Benantar",
                                    "sex": "F"
                                },
                                {
                                    "first_name": "Hercules",
                                    "last_name": "Basagni",
                                    "sex": "M"
                                },
                                {
                                    "first_name": "Hercules",
                                    "last_name": "Bernardinello",
                                    "sex": "F"
                                }
                            ]
                        },
                        "text/html": [
                            "<table>",
                            "<tr><th>first_name</th><th>last_name</th><th>sex</th></tr>",
                            "<tr><td>Hercules</td><td>Baer</td><td>M</td></tr>",
                            "<tr><td>Hercules</td><td>Biron</td><td>F</td></tr>",
                            "<tr><td>Hercules</td><td>Birge</td><td>F</td></tr>",
                            "<tr><td>Hercules</td><td>Berstel</td><td>F</td></tr>",
                            "<tr><td>Hercules</td><td>Bernatsky</td><td>M</td></tr>",
                            "<tr><td>Hercules</td><td>Bail</td><td>F</td></tr>",
                            "<tr><td>Hercules</td><td>Bodoff</td><td>M</td></tr>",
                            "<tr><td>Hercules</td><td>Benantar</td><td>F</td></tr>",
                            "<tr><td>Hercules</td><td>Basagni</td><td>M</td></tr>",
                            "<tr><td>Hercules</td><td>Bernardinello</td><td>F</td></tr>",
                            "</table>"
                        ]
                    }
                }
            ],
            "execution_count": 6
        },
        {
            "cell_type": "code",
            "source": [
                "--6. List each employee in the Sales department, including their employee number, last name, and first name.\n",
                "SELECT \n",
                "    e.emp_no,\n",
                "    e.last_name,\n",
                "    e.first_name\n",
                "FROM \n",
                "    employees e\n",
                "JOIN \n",
                "    dept_emp de ON e.emp_no = de.emp_no\n",
                "JOIN \n",
                "    departments d ON de.dept_no = d.dept_no\n",
                "WHERE \n",
                "    d.dept_name = 'Sales'\n",
                "LIMIT 10;\n",
                ""
            ],
            "metadata": {
                "azdata_cell_guid": "cbb1135e-7765-400c-bc44-3d149fe30b50",
                "language": "sql"
            },
            "outputs": [
                {
                    "output_type": "display_data",
                    "data": {
                        "text/html": "(10 row(s) affected)"
                    },
                    "metadata": {}
                },
                {
                    "output_type": "display_data",
                    "data": {
                        "text/html": "Total execution time: 00:00:00.061"
                    },
                    "metadata": {}
                },
                {
                    "output_type": "execute_result",
                    "metadata": {},
                    "execution_count": 7,
                    "data": {
                        "application/vnd.dataresource+json": {
                            "schema": {
                                "fields": [
                                    {
                                        "name": "emp_no"
                                    },
                                    {
                                        "name": "last_name"
                                    },
                                    {
                                        "name": "first_name"
                                    }
                                ]
                            },
                            "data": [
                                {
                                    "emp_no": "10002",
                                    "last_name": "Simmel",
                                    "first_name": "Bezalel"
                                },
                                {
                                    "emp_no": "10016",
                                    "last_name": "Cappelletti",
                                    "first_name": "Kazuhito"
                                },
                                {
                                    "emp_no": "10034",
                                    "last_name": "Swan",
                                    "first_name": "Bader"
                                },
                                {
                                    "emp_no": "10041",
                                    "last_name": "Lenart",
                                    "first_name": "Uri"
                                },
                                {
                                    "emp_no": "10050",
                                    "last_name": "Dredge",
                                    "first_name": "Yinghua"
                                },
                                {
                                    "emp_no": "10053",
                                    "last_name": "Zschoche",
                                    "first_name": "Sanjiv"
                                },
                                {
                                    "emp_no": "10060",
                                    "last_name": "Billingsley",
                                    "first_name": "Breannda"
                                },
                                {
                                    "emp_no": "10061",
                                    "last_name": "Herber",
                                    "first_name": "Tse"
                                },
                                {
                                    "emp_no": "10068",
                                    "last_name": "Brattka",
                                    "first_name": "Charlene"
                                },
                                {
                                    "emp_no": "10087",
                                    "last_name": "Eugenio",
                                    "first_name": "Xinglin"
                                }
                            ]
                        },
                        "text/html": [
                            "<table>",
                            "<tr><th>emp_no</th><th>last_name</th><th>first_name</th></tr>",
                            "<tr><td>10002</td><td>Simmel</td><td>Bezalel</td></tr>",
                            "<tr><td>10016</td><td>Cappelletti</td><td>Kazuhito</td></tr>",
                            "<tr><td>10034</td><td>Swan</td><td>Bader</td></tr>",
                            "<tr><td>10041</td><td>Lenart</td><td>Uri</td></tr>",
                            "<tr><td>10050</td><td>Dredge</td><td>Yinghua</td></tr>",
                            "<tr><td>10053</td><td>Zschoche</td><td>Sanjiv</td></tr>",
                            "<tr><td>10060</td><td>Billingsley</td><td>Breannda</td></tr>",
                            "<tr><td>10061</td><td>Herber</td><td>Tse</td></tr>",
                            "<tr><td>10068</td><td>Brattka</td><td>Charlene</td></tr>",
                            "<tr><td>10087</td><td>Eugenio</td><td>Xinglin</td></tr>",
                            "</table>"
                        ]
                    }
                }
            ],
            "execution_count": 7
        },
        {
            "cell_type": "code",
            "source": [
                "--7. List each employee in the Sales and Development departments, including their employee number, last name, first name, and department name.\n",
                "SELECT \n",
                "    e.emp_no,\n",
                "    e.last_name,\n",
                "    e.first_name,\n",
                "    d.dept_name\n",
                "FROM \n",
                "    employees e\n",
                "JOIN \n",
                "    dept_emp de ON e.emp_no = de.emp_no\n",
                "JOIN \n",
                "    departments d ON de.dept_no = d.dept_no\n",
                "WHERE \n",
                "    d.dept_name IN ('Sales', 'Development')\n",
                "LIMIT 10;\n",
                ""
            ],
            "metadata": {
                "azdata_cell_guid": "60f2b745-9882-4908-8072-0db13647dca4",
                "language": "sql"
            },
            "outputs": [
                {
                    "output_type": "display_data",
                    "data": {
                        "text/html": "(10 row(s) affected)"
                    },
                    "metadata": {}
                },
                {
                    "output_type": "display_data",
                    "data": {
                        "text/html": "Total execution time: 00:00:00.002"
                    },
                    "metadata": {}
                },
                {
                    "output_type": "execute_result",
                    "metadata": {},
                    "execution_count": 8,
                    "data": {
                        "application/vnd.dataresource+json": {
                            "schema": {
                                "fields": [
                                    {
                                        "name": "emp_no"
                                    },
                                    {
                                        "name": "last_name"
                                    },
                                    {
                                        "name": "first_name"
                                    },
                                    {
                                        "name": "dept_name"
                                    }
                                ]
                            },
                            "data": [
                                {
                                    "emp_no": "10001",
                                    "last_name": "Facello",
                                    "first_name": "Georgi",
                                    "dept_name": "Development"
                                },
                                {
                                    "emp_no": "10002",
                                    "last_name": "Simmel",
                                    "first_name": "Bezalel",
                                    "dept_name": "Sales"
                                },
                                {
                                    "emp_no": "10006",
                                    "last_name": "Preusig",
                                    "first_name": "Anneke",
                                    "dept_name": "Development"
                                },
                                {
                                    "emp_no": "10008",
                                    "last_name": "Kalloufi",
                                    "first_name": "Saniya",
                                    "dept_name": "Development"
                                },
                                {
                                    "emp_no": "10012",
                                    "last_name": "Bridgland",
                                    "first_name": "Patricio",
                                    "dept_name": "Development"
                                },
                                {
                                    "emp_no": "10014",
                                    "last_name": "Genin",
                                    "first_name": "Berni",
                                    "dept_name": "Development"
                                },
                                {
                                    "emp_no": "10016",
                                    "last_name": "Cappelletti",
                                    "first_name": "Kazuhito",
                                    "dept_name": "Sales"
                                },
                                {
                                    "emp_no": "10018",
                                    "last_name": "Peha",
                                    "first_name": "Kazuhide",
                                    "dept_name": "Development"
                                },
                                {
                                    "emp_no": "10021",
                                    "last_name": "Erde",
                                    "first_name": "Ramzi",
                                    "dept_name": "Development"
                                },
                                {
                                    "emp_no": "10022",
                                    "last_name": "Famili",
                                    "first_name": "Shahaf",
                                    "dept_name": "Development"
                                }
                            ]
                        },
                        "text/html": [
                            "<table>",
                            "<tr><th>emp_no</th><th>last_name</th><th>first_name</th><th>dept_name</th></tr>",
                            "<tr><td>10001</td><td>Facello</td><td>Georgi</td><td>Development</td></tr>",
                            "<tr><td>10002</td><td>Simmel</td><td>Bezalel</td><td>Sales</td></tr>",
                            "<tr><td>10006</td><td>Preusig</td><td>Anneke</td><td>Development</td></tr>",
                            "<tr><td>10008</td><td>Kalloufi</td><td>Saniya</td><td>Development</td></tr>",
                            "<tr><td>10012</td><td>Bridgland</td><td>Patricio</td><td>Development</td></tr>",
                            "<tr><td>10014</td><td>Genin</td><td>Berni</td><td>Development</td></tr>",
                            "<tr><td>10016</td><td>Cappelletti</td><td>Kazuhito</td><td>Sales</td></tr>",
                            "<tr><td>10018</td><td>Peha</td><td>Kazuhide</td><td>Development</td></tr>",
                            "<tr><td>10021</td><td>Erde</td><td>Ramzi</td><td>Development</td></tr>",
                            "<tr><td>10022</td><td>Famili</td><td>Shahaf</td><td>Development</td></tr>",
                            "</table>"
                        ]
                    }
                }
            ],
            "execution_count": 8
        },
        {
            "cell_type": "code",
            "source": [
                "--8. List the frequency counts, in descending order, of all the employee last names (that is, how many employees share each last name).\n",
                "SELECT \n",
                "    last_name,\n",
                "    COUNT(*) AS frequency\n",
                "FROM \n",
                "    employees\n",
                "GROUP BY \n",
                "    last_name\n",
                "ORDER BY \n",
                "    frequency DESC\n",
                "LIMIT 10;"
            ],
            "metadata": {
                "azdata_cell_guid": "e952bdea-9e5c-4231-8a60-f6a3ffa9393e",
                "language": "sql"
            },
            "outputs": [
                {
                    "output_type": "display_data",
                    "data": {
                        "text/html": "(10 row(s) affected)"
                    },
                    "metadata": {}
                },
                {
                    "output_type": "display_data",
                    "data": {
                        "text/html": "Total execution time: 00:00:00.049"
                    },
                    "metadata": {}
                },
                {
                    "output_type": "execute_result",
                    "metadata": {},
                    "execution_count": 9,
                    "data": {
                        "application/vnd.dataresource+json": {
                            "schema": {
                                "fields": [
                                    {
                                        "name": "last_name"
                                    },
                                    {
                                        "name": "frequency"
                                    }
                                ]
                            },
                            "data": [
                                {
                                    "last_name": "Baba",
                                    "frequency": "226"
                                },
                                {
                                    "last_name": "Coorg",
                                    "frequency": "223"
                                },
                                {
                                    "last_name": "Gelosh",
                                    "frequency": "223"
                                },
                                {
                                    "last_name": "Sudbeck",
                                    "frequency": "222"
                                },
                                {
                                    "last_name": "Farris",
                                    "frequency": "222"
                                },
                                {
                                    "last_name": "Adachi",
                                    "frequency": "221"
                                },
                                {
                                    "last_name": "Osgood",
                                    "frequency": "220"
                                },
                                {
                                    "last_name": "Mandell",
                                    "frequency": "218"
                                },
                                {
                                    "last_name": "Masada",
                                    "frequency": "218"
                                },
                                {
                                    "last_name": "Neiman",
                                    "frequency": "218"
                                }
                            ]
                        },
                        "text/html": [
                            "<table>",
                            "<tr><th>last_name</th><th>frequency</th></tr>",
                            "<tr><td>Baba</td><td>226</td></tr>",
                            "<tr><td>Coorg</td><td>223</td></tr>",
                            "<tr><td>Gelosh</td><td>223</td></tr>",
                            "<tr><td>Sudbeck</td><td>222</td></tr>",
                            "<tr><td>Farris</td><td>222</td></tr>",
                            "<tr><td>Adachi</td><td>221</td></tr>",
                            "<tr><td>Osgood</td><td>220</td></tr>",
                            "<tr><td>Mandell</td><td>218</td></tr>",
                            "<tr><td>Masada</td><td>218</td></tr>",
                            "<tr><td>Neiman</td><td>218</td></tr>",
                            "</table>"
                        ]
                    }
                }
            ],
            "execution_count": 9
        }
    ]
}